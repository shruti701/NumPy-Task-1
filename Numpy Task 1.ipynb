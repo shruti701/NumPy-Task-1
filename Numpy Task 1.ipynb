{
 "cells": [
  {
   "cell_type": "markdown",
   "id": "0e8bd150-3367-403b-ab1c-b1978b939641",
   "metadata": {},
   "source": [
    "<h1 aligen=\"center\"style=\"color:green\"> NumPy Task 1 </h1>"
   ]
  },
  {
   "cell_type": "markdown",
   "id": "9b7c2622-ee04-400e-bc93-d395d93dbbc1",
   "metadata": {},
   "source": [
    "## 1)Create a 1D NumPy array of numbers from 0 to 9."
   ]
  },
  {
   "cell_type": "code",
   "execution_count": 2,
   "id": "33d4a5d9-985f-447d-891e-e8392e5d21db",
   "metadata": {},
   "outputs": [],
   "source": [
    "import numpy as np"
   ]
  },
  {
   "cell_type": "code",
   "execution_count": 3,
   "id": "2da9f6f7-1651-400e-bffd-f1eefa07336e",
   "metadata": {},
   "outputs": [
    {
     "data": {
      "text/plain": [
       "array([0, 1, 2, 3, 4, 5, 6, 7, 8, 9])"
      ]
     },
     "execution_count": 3,
     "metadata": {},
     "output_type": "execute_result"
    }
   ],
   "source": [
    "arr = np.arange(10)\n",
    "arr"
   ]
  },
  {
   "cell_type": "markdown",
   "id": "725460a3-8fe0-4eb1-be65-c06961bb8ec6",
   "metadata": {},
   "source": [
    "## 2)Create a 2D array of shape (3, 3) with all elements as 1."
   ]
  },
  {
   "cell_type": "code",
   "execution_count": 4,
   "id": "ff31d34d-1c24-47fe-8638-c9d4c9b3eb3b",
   "metadata": {},
   "outputs": [
    {
     "data": {
      "text/plain": [
       "array([[1., 1., 1.],\n",
       "       [1., 1., 1.],\n",
       "       [1., 1., 1.]])"
      ]
     },
     "execution_count": 4,
     "metadata": {},
     "output_type": "execute_result"
    }
   ],
   "source": [
    "arr = np.ones((3, 3))\n",
    "arr\n"
   ]
  },
  {
   "cell_type": "markdown",
   "id": "5513bd19-5da8-49a9-b59f-a0c2f40d6775",
   "metadata": {},
   "source": [
    "## 3)Generate a NumPy array of 15 random integers between 10 and 50"
   ]
  },
  {
   "cell_type": "code",
   "execution_count": 5,
   "id": "969404e2-8add-43e2-9745-947d263ec96a",
   "metadata": {},
   "outputs": [
    {
     "data": {
      "text/plain": [
       "array([19, 20, 26, 15, 21, 36, 16, 29, 50, 34, 16, 23, 46, 44, 33])"
      ]
     },
     "execution_count": 5,
     "metadata": {},
     "output_type": "execute_result"
    }
   ],
   "source": [
    "arr = np.random.randint(10, 51, 15)\n",
    "arr\n"
   ]
  },
  {
   "cell_type": "code",
   "execution_count": 6,
   "id": "49e6c6af-fde6-4ec2-b13f-0621c0702604",
   "metadata": {},
   "outputs": [
    {
     "data": {
      "text/plain": [
       "array([30, 22, 29, 25, 29, 28, 28, 29, 32, 20, 27, 14, 31, 26, 19, 15, 20,\n",
       "       21, 32, 32, 33, 19, 26, 16, 31, 12, 19, 22, 17, 29, 31, 16, 29, 31,\n",
       "       20, 22, 27, 13, 22, 16, 23, 13, 16, 29, 16])"
      ]
     },
     "execution_count": 6,
     "metadata": {},
     "output_type": "execute_result"
    }
   ],
   "source": [
    "arr = np.random.randint(12, 34, 45)\n",
    "arr"
   ]
  },
  {
   "cell_type": "markdown",
   "id": "ce019778-6c05-4cde-885e-12c01ed1b6c5",
   "metadata": {},
   "source": [
    "## 4)Create an array of 5 evenly spaced numbers between 0 and 1 (inclusive)."
   ]
  },
  {
   "cell_type": "code",
   "execution_count": 7,
   "id": "9d5aff3e-6645-4ad3-a2d0-d64430df312c",
   "metadata": {},
   "outputs": [
    {
     "data": {
      "text/plain": [
       "array([0.  , 0.25, 0.5 , 0.75, 1.  ])"
      ]
     },
     "execution_count": 7,
     "metadata": {},
     "output_type": "execute_result"
    }
   ],
   "source": [
    "arr = np.linspace(0, 1, 5)\n",
    "arr\n"
   ]
  },
  {
   "cell_type": "markdown",
   "id": "c0bb505d-5401-4aaf-8232-568dd138a072",
   "metadata": {},
   "source": [
    "## 5)Create a 4x4 identity matrix using NumPy."
   ]
  },
  {
   "cell_type": "code",
   "execution_count": 8,
   "id": "40069fed-f562-4a03-ba79-20ecf5c6ee1d",
   "metadata": {},
   "outputs": [
    {
     "data": {
      "text/plain": [
       "array([[1., 0., 0., 0.],\n",
       "       [0., 1., 0., 0.],\n",
       "       [0., 0., 1., 0.],\n",
       "       [0., 0., 0., 1.]])"
      ]
     },
     "execution_count": 8,
     "metadata": {},
     "output_type": "execute_result"
    }
   ],
   "source": [
    "arr = np.eye(4)\n",
    "arr\n"
   ]
  },
  {
   "cell_type": "markdown",
   "id": "3265eb18-cd97-4b52-9018-8b74de9225a3",
   "metadata": {},
   "source": [
    "## 6)Create an array from the list [10, 20, 30, 40] and change the data type to float."
   ]
  },
  {
   "cell_type": "code",
   "execution_count": 9,
   "id": "b534e9f0-e36a-499f-9495-d39dd7c48a5d",
   "metadata": {},
   "outputs": [
    {
     "data": {
      "text/plain": [
       "array([10., 20., 30., 40.])"
      ]
     },
     "execution_count": 9,
     "metadata": {},
     "output_type": "execute_result"
    }
   ],
   "source": [
    "arr = np.array([10, 20, 30, 40], dtype=float)\n",
    "arr\n"
   ]
  },
  {
   "cell_type": "markdown",
   "id": "b3cfeb7b-474e-46a3-980d-5b9ff494937e",
   "metadata": {},
   "source": [
    "## 7)Create a 3x3 array with values from 1 to 9, then extract the second column."
   ]
  },
  {
   "cell_type": "code",
   "execution_count": 10,
   "id": "01faeb56-a90f-423f-91bd-d7e718e5e904",
   "metadata": {},
   "outputs": [
    {
     "data": {
      "text/plain": [
       "array([2, 5, 8])"
      ]
     },
     "execution_count": 10,
     "metadata": {},
     "output_type": "execute_result"
    }
   ],
   "source": [
    "arr = np.arange(1, 10).reshape(3, 3)\n",
    "second_col = arr[:, 1]\n",
    "(second_col)\n"
   ]
  },
  {
   "cell_type": "markdown",
   "id": "095dcdcd-20ab-4422-bb30-ae1b43ef479f",
   "metadata": {},
   "source": [
    "## 8)Create a 1D array with 10 elements and reshape it into a 2x5 matrix."
   ]
  },
  {
   "cell_type": "code",
   "execution_count": 11,
   "id": "44df3fe1-3e12-42df-bd81-4f64eac974c3",
   "metadata": {},
   "outputs": [
    {
     "data": {
      "text/plain": [
       "array([[0, 1, 2, 3, 4],\n",
       "       [5, 6, 7, 8, 9]])"
      ]
     },
     "execution_count": 11,
     "metadata": {},
     "output_type": "execute_result"
    }
   ],
   "source": [
    "arr = np.arange(10).reshape(2, 5)\n",
    "arr\n"
   ]
  },
  {
   "cell_type": "markdown",
   "id": "6618f8b8-1d7b-446c-8a04-8954a0ba0ab1",
   "metadata": {},
   "source": [
    "## 9)Create two 2x2 matrices and perform matrix multiplication."
   ]
  },
  {
   "cell_type": "code",
   "execution_count": 15,
   "id": "a71b7ff1-2d80-440e-b118-3a3918e803ca",
   "metadata": {},
   "outputs": [
    {
     "data": {
      "text/plain": [
       "array([[19, 22],\n",
       "       [43, 50]])"
      ]
     },
     "execution_count": 15,
     "metadata": {},
     "output_type": "execute_result"
    }
   ],
   "source": [
    "a = np.array([[1, 2], [3, 4]])\n",
    "b = np.array([[5, 6], [7, 8]])\n",
    "result = np.dot(a, b)\n",
    "result\n"
   ]
  },
  {
   "cell_type": "markdown",
   "id": "41e0e309-8aea-42c4-be3d-0e645dcd7441",
   "metadata": {},
   "source": [
    "## 10)    Given the array arr = np.array([5, 12, 7, 18, 3]), replace all values greater than 10 with 100.\n",
    "\n"
   ]
  },
  {
   "cell_type": "code",
   "execution_count": 14,
   "id": "0fe2388c-6fe2-4248-8ac4-a1f822fc8a6a",
   "metadata": {},
   "outputs": [
    {
     "data": {
      "text/plain": [
       "array([  5, 100,   7, 100,   3])"
      ]
     },
     "execution_count": 14,
     "metadata": {},
     "output_type": "execute_result"
    }
   ],
   "source": [
    "arr = np.array([5, 12, 7, 18, 3])\n",
    "arr[arr > 10] = 100\n",
    "arr\n"
   ]
  },
  {
   "cell_type": "code",
   "execution_count": null,
   "id": "6ada0e45-bf99-4948-9578-ce611569dfbf",
   "metadata": {},
   "outputs": [],
   "source": []
  },
  {
   "cell_type": "code",
   "execution_count": null,
   "id": "057d4a4b-1a87-4329-aac5-0e340999d4d4",
   "metadata": {},
   "outputs": [],
   "source": []
  }
 ],
 "metadata": {
  "kernelspec": {
   "display_name": "Python 3 (ipykernel)",
   "language": "python",
   "name": "python3"
  },
  "language_info": {
   "codemirror_mode": {
    "name": "ipython",
    "version": 3
   },
   "file_extension": ".py",
   "mimetype": "text/x-python",
   "name": "python",
   "nbconvert_exporter": "python",
   "pygments_lexer": "ipython3",
   "version": "3.12.7"
  }
 },
 "nbformat": 4,
 "nbformat_minor": 5
}
